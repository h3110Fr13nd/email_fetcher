{
 "cells": [
  {
   "cell_type": "code",
   "execution_count": 1,
   "metadata": {},
   "outputs": [],
   "source": [
    "import time, subprocess, os\n",
    "import concurrent.futures\n",
    "from selenium import webdriver\n",
    "from selenium.webdriver.chrome.options import Options\n",
    "from selenium.webdriver.common.by import By\n",
    "from selenium.common.exceptions import WebDriverException, NoSuchElementException\n",
    "from utils import clear_sessions, check_and_run_docker, get_proxies, check_container"
   ]
  },
  {
   "cell_type": "code",
   "execution_count": 2,
   "metadata": {},
   "outputs": [],
   "source": [
    "# country = 'us'\n",
    "# company_block_css = \"#service-providers > div > div.directory-list > ul > li.firm-wrapper\"\n",
    "# company_name_css = \"div.firm-header > div > h3 > a::text\"\n",
    "# website_link_css = \"div.firm-header > a::attr(href)\"\n",
    "# next_page_css = \"#service-providers > div > div.directory-list > div.pagination-wrapper > ul > li.next-page > a\"\n",
    "# listing_website_start_url = \"https://www.goodfirms.co/directory/cms/top-website-development-companies?locations%5B167%5D=us&locations%5B168%5D=um\"\n",
    "# page_num = 0\n",
    "# chromedriver_command_executor = \"http://localhost:4444/wd/hub\"\n",
    "# folder_name = \"goodfirms_webdev_usuk\""
   ]
  },
  {
   "cell_type": "code",
   "execution_count": 3,
   "metadata": {},
   "outputs": [],
   "source": [
    "country = 'uk'\n",
    "company_block_css = \".directory-providers__list >li.provider-card\"\n",
    "company_name_css = \"div.provider-header > h3 > a::attr(title)\"\n",
    "website_link_css = \"div.provider-card__body.provider-body > div.provider-card__cta > a.provider-card__visit-btn.provider-visit.track-website-visit::attr(href)\"\n",
    "next_page_css = \"#service-providers > div > div.directory-list > div.pagination-wrapper > ul > li.next-page > a\"\n",
    "listing_website_start_url = \"https://themanifest.com/uk/web-development/companies\"\n",
    "page_num = 0\n",
    "chromedriver_command_executor = \"http://localhost:4444/wd/hub\"\n",
    "folder_name = \"temp\""
   ]
  },
  {
   "cell_type": "code",
   "execution_count": 4,
   "metadata": {},
   "outputs": [],
   "source": [
    "if not os.path.exists('data'):\n",
    "    os.makedirs('data')\n",
    "if not os.path.exists(f\"data/{folder_name}\"):\n",
    "    os.makedirs(f\"data/{folder_name}\")\n",
    "    os.makedirs(f\"data/{folder_name}/emails\")\n",
    "    os.makedirs(f\"data/{folder_name}/logs\")\n",
    "    os.makedirs(f\"data/{folder_name}/out\")"
   ]
  },
  {
   "cell_type": "code",
   "execution_count": 5,
   "metadata": {},
   "outputs": [],
   "source": [
    "def run_crawl(full_path, page_num):\n",
    "    subprocess.Popen(f'''cd {os.getcwd()} && \\\n",
    "                    scrapy crawl fetch_emails \\\n",
    "                    -a start_url=file://{full_path} \\\n",
    "                    -a country={country} \\\n",
    "                    -a company_block_css=\"{company_block_css}\" \\\n",
    "                    -a company_name_css=\"{company_name_css}\" \\\n",
    "                    -a website_link_css=\"{website_link_css}\" \\\n",
    "                    -o data/{folder_name}/emails/{folder_name}{country}{page_num}.csv \\\n",
    "                    --logfile data/{folder_name}/logs/{folder_name}{country}{page_num}.log''',\n",
    "                    shell=True)"
   ]
  },
  {
   "cell_type": "code",
   "execution_count": 6,
   "metadata": {},
   "outputs": [],
   "source": [
    "def get_companies(url_to_scrape=listing_website_start_url, page_num=page_num):\n",
    "    # Set the options for the webdriver\n",
    "    # PROXIES = get_proxies()\n",
    "    options = Options()\n",
    "    next_page = url_to_scrape\n",
    "    driver = None\n",
    "    try:\n",
    "        signal = True\n",
    "        options.add_argument('--ignore-certificate-errors')\n",
    "        options.add_argument('--ignore-ssl-errors=yes')\n",
    "        options.add_argument('--no-sandbox')\n",
    "        options.add_argument('--disable-dev-shm-usage')\n",
    "        options.add_argument(\"--headless\")\n",
    "\n",
    "        # Set the proxy\n",
    "        # random_proxy = random.choice(PROXIES)\n",
    "        # print(\"Proxy in use: %s\" % random_proxy)\n",
    "        # options.add_argument('--proxy-server=%s' % random_proxy)\n",
    "        # options.add_argument('--proxy-server=%s' % '104.234.157.100:21278')\n",
    "\n",
    "        driver = webdriver.Remote(\n",
    "            command_executor=chromedriver_command_executor,\n",
    "            options=options,\n",
    "        )\n",
    "        with concurrent.futures.ProcessPoolExecutor(max_workers=10) as executor:\n",
    "            while next_page:\n",
    "                print(next_page)\n",
    "                driver.get(next_page)\n",
    "                print(driver.title)\n",
    "                file_path = f'data/{folder_name}/out/{folder_name}{country}{page_num}.html'\n",
    "                full_path = os.path.abspath(file_path)\n",
    "                with open(file_path, 'w') as f:\n",
    "                    f.write(driver.page_source)\n",
    "                executor.submit(run_crawl, full_path, page_num)\n",
    "                next_page_element = driver.find_element(By.CSS_SELECTOR, next_page_css)\n",
    "                if next_page_element:\n",
    "                    next_page = next_page_element.get_attribute('href')\n",
    "                else:\n",
    "                    next_page = None\n",
    "                print(next_page)\n",
    "                page_num += 1\n",
    "\n",
    "    \n",
    "    except NoSuchElementException as e:\n",
    "        print(\"No Such Element Exception\")\n",
    "        print(e)\n",
    "        signal = False\n",
    "    except WebDriverException as e:\n",
    "        signal = (page_num, next_page)\n",
    "        print(e)\n",
    "    except Exception as e:\n",
    "        print(e)\n",
    "        print(e.__class__.__name__)\n",
    "        signal = False\n",
    "    finally:\n",
    "        if driver:\n",
    "            driver.close()\n",
    "        clear_sessions()\n",
    "        return signal\n"
   ]
  },
  {
   "cell_type": "code",
   "execution_count": 7,
   "metadata": {},
   "outputs": [
    {
     "name": "stdout",
     "output_type": "stream",
     "text": [
      "Docker container already running\n"
     ]
    }
   ],
   "source": [
    "check_and_run_docker()\n",
    "while check_container() == False:\n",
    "    time.sleep(1)\n",
    "clear_sessions()"
   ]
  },
  {
   "cell_type": "code",
   "execution_count": 8,
   "metadata": {},
   "outputs": [
    {
     "name": "stdout",
     "output_type": "stream",
     "text": [
      "https://themanifest.com/uk/web-development/companies\n",
      "Message: unknown error: net::ERR_NAME_NOT_RESOLVED\n",
      "  (Session info: chrome-headless-shell=120.0.6099.109)\n",
      "Stacktrace:\n",
      "#0 0x56493d6bcf83 <unknown>\n",
      "#1 0x56493d375cf7 <unknown>\n",
      "#2 0x56493d36d6ea <unknown>\n",
      "#3 0x56493d35c5a1 <unknown>\n",
      "#4 0x56493d35dd40 <unknown>\n",
      "#5 0x56493d35c854 <unknown>\n",
      "#6 0x56493d35b586 <unknown>\n",
      "#7 0x56493d35b44a <unknown>\n",
      "#8 0x56493d3597e1 <unknown>\n",
      "#9 0x56493d35a01a <unknown>\n",
      "#10 0x56493d378bbe <unknown>\n",
      "#11 0x56493d40e7a5 <unknown>\n",
      "#12 0x56493d3ef0b2 <unknown>\n",
      "#13 0x56493d40e006 <unknown>\n",
      "#14 0x56493d3eee53 <unknown>\n",
      "#15 0x56493d3b6dd4 <unknown>\n",
      "#16 0x56493d3b81de <unknown>\n",
      "#17 0x56493d681531 <unknown>\n",
      "#18 0x56493d685455 <unknown>\n",
      "#19 0x56493d66df55 <unknown>\n",
      "#20 0x56493d6860ef <unknown>\n",
      "#21 0x56493d65199f <unknown>\n",
      "#22 0x56493d6aa008 <unknown>\n",
      "#23 0x56493d6aa1d7 <unknown>\n",
      "#24 0x56493d6bc124 <unknown>\n",
      "#25 0x7f3316aebac3 <unknown>\n",
      "\n",
      "https://themanifest.com/uk/web-development/companies\n",
      "Message: unknown error: net::ERR_NAME_NOT_RESOLVED\n",
      "  (Session info: chrome-headless-shell=120.0.6099.109)\n",
      "Stacktrace:\n",
      "#0 0x55796ea27f83 <unknown>\n",
      "#1 0x55796e6e0cf7 <unknown>\n",
      "#2 0x55796e6d86ea <unknown>\n",
      "#3 0x55796e6c75a1 <unknown>\n",
      "#4 0x55796e6c8d40 <unknown>\n",
      "#5 0x55796e6c7854 <unknown>\n",
      "#6 0x55796e6c6586 <unknown>\n",
      "#7 0x55796e6c644a <unknown>\n",
      "#8 0x55796e6c47e1 <unknown>\n",
      "#9 0x55796e6c501a <unknown>\n",
      "#10 0x55796e6e3bbe <unknown>\n",
      "#11 0x55796e7797a5 <unknown>\n",
      "#12 0x55796e75a0b2 <unknown>\n",
      "#13 0x55796e779006 <unknown>\n",
      "#14 0x55796e759e53 <unknown>\n",
      "#15 0x55796e721dd4 <unknown>\n",
      "#16 0x55796e7231de <unknown>\n",
      "#17 0x55796e9ec531 <unknown>\n",
      "#18 0x55796e9f0455 <unknown>\n",
      "#19 0x55796e9d8f55 <unknown>\n",
      "#20 0x55796e9f10ef <unknown>\n",
      "#21 0x55796e9bc99f <unknown>\n",
      "#22 0x55796ea15008 <unknown>\n",
      "#23 0x55796ea151d7 <unknown>\n",
      "#24 0x55796ea27124 <unknown>\n",
      "#25 0x7fd61b3b4ac3 <unknown>\n",
      "\n",
      "(0, 'https://themanifest.com/uk/web-development/companies')\n"
     ]
    },
    {
     "ename": "KeyboardInterrupt",
     "evalue": "",
     "output_type": "error",
     "traceback": [
      "\u001b[0;31m---------------------------------------------------------------------------\u001b[0m",
      "\u001b[0;31mKeyboardInterrupt\u001b[0m                         Traceback (most recent call last)",
      "Cell \u001b[0;32mIn[8], line 6\u001b[0m\n\u001b[1;32m      4\u001b[0m signal \u001b[38;5;241m=\u001b[39m get_companies(signal[\u001b[38;5;241m1\u001b[39m],signal[\u001b[38;5;241m0\u001b[39m])\n\u001b[1;32m      5\u001b[0m \u001b[38;5;28mprint\u001b[39m(signal)\n\u001b[0;32m----> 6\u001b[0m \u001b[43mtime\u001b[49m\u001b[38;5;241;43m.\u001b[39;49m\u001b[43msleep\u001b[49m\u001b[43m(\u001b[49m\u001b[38;5;241;43m10\u001b[39;49m\u001b[43m)\u001b[49m\n",
      "\u001b[0;31mKeyboardInterrupt\u001b[0m: "
     ]
    }
   ],
   "source": [
    "clear_sessions()\n",
    "signal = get_companies(listing_website_start_url, page_num)\n",
    "while isinstance(signal, tuple):\n",
    "    signal = get_companies(signal[1],signal[0])\n",
    "    print(signal)\n",
    "    time.sleep(10)"
   ]
  },
  {
   "cell_type": "code",
   "execution_count": null,
   "metadata": {},
   "outputs": [],
   "source": []
  }
 ],
 "metadata": {
  "kernelspec": {
   "display_name": "Python 3",
   "language": "python",
   "name": "python3"
  },
  "language_info": {
   "codemirror_mode": {
    "name": "ipython",
    "version": 3
   },
   "file_extension": ".py",
   "mimetype": "text/x-python",
   "name": "python",
   "nbconvert_exporter": "python",
   "pygments_lexer": "ipython3",
   "version": "3.11.0rc1"
  }
 },
 "nbformat": 4,
 "nbformat_minor": 2
}
