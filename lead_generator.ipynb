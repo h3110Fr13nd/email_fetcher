{
 "cells": [
  {
   "cell_type": "code",
   "execution_count": 23,
   "metadata": {},
   "outputs": [],
   "source": [
    "import time, subprocess, os\n",
    "import concurrent.futures\n",
    "from selenium import webdriver\n",
    "from selenium.webdriver.chrome.options import Options\n",
    "from selenium.webdriver.common.by import By\n",
    "from selenium.common.exceptions import WebDriverException, NoSuchElementException\n",
    "from utils import clear_sessions, check_and_run_docker, get_proxies, check_container"
   ]
  },
  {
   "cell_type": "code",
   "execution_count": 65,
   "metadata": {},
   "outputs": [],
   "source": [
    "country_css = \"div.firm-container > div.firm-services > div.firm-location.custom_tooltip > span::text\"\n",
    "country = None\n",
    "company_block_css = \"#service-providers > div > div.directory-list > ul > li.firm-wrapper\"\n",
    "company_name_css = \"div.firm-header > div > h3 > a::text\"\n",
    "website_link_css = \"div.firm-header > a::attr(href)\"\n",
    "next_page_css = \"#service-providers > div > div.directory-list > div.pagination-wrapper > ul > li.next-page > a\"\n",
    "listing_website_start_url = \"https://www.goodfirms.co/directory/platform/app-development?page=33\"\n",
    "page_num = 33\n",
    "chromedriver_command_executor = \"http://localhost:4444/wd/hub\"\n",
    "folder_name = \"goodfirms_appdev\"\n",
    "is_next_page_url_in_format = False"
   ]
  },
  {
   "cell_type": "code",
   "execution_count": 66,
   "metadata": {},
   "outputs": [],
   "source": [
    "# country = 'uk'\n",
    "# company_block_css = \"#js-listing-app > ul > li.agency-list-item.agency-item\"\n",
    "# company_name_css = \"div > div.agency-item--inner > div.agency-item--main > div > div.info-head > h3 > a::text\"\n",
    "# website_link_css = \"div > div.agency-item--actions > a::attr(href)\"\n",
    "# next_page_css = \"#paginator > ul > li.page-item.active+li>a\"\n",
    "# is_next_page_url_in_format = True\n",
    "# next_page_url = \"https://www.designrush.com/agency/web-development-companies/uk\"\n",
    "# listing_website_start_url = \"https://www.designrush.com/agency/web-development-companies/uk\"\n",
    "# page_num = 1\n",
    "# chromedriver_command_executor = \"http://localhost:4444/wd/hub\"\n",
    "# folder_name = \"designrush_webdev_usuk\""
   ]
  },
  {
   "cell_type": "code",
   "execution_count": 67,
   "metadata": {},
   "outputs": [],
   "source": [
    "# country = 'uk'\n",
    "# company_block_css = \".directory-providers__list >li.provider-card\"\n",
    "# company_name_css = \"div.provider-header > h3 > a::attr(title)\"\n",
    "# website_link_css = \"div.provider-card__body.provider-body > div.provider-card__cta > a.provider-card__visit-btn.provider-visit.track-website-visit::attr(href)\"\n",
    "# next_page_css = \"#service-providers > div > div.directory-list > div.pagination-wrapper > ul > li.next-page > a\"\n",
    "# listing_website_start_url = \"https://themanifest.com/uk/web-development/companies\"\n",
    "# page_num = 0\n",
    "# chromedriver_command_executor = \"http://localhost:4444/wd/hub\"\n",
    "# folder_name = \"temp\"\n",
    "# is_next_page_url_in_format = False"
   ]
  },
  {
   "cell_type": "code",
   "execution_count": 68,
   "metadata": {},
   "outputs": [],
   "source": [
    "if not os.path.exists('data'):\n",
    "    os.makedirs('data')\n",
    "if not os.path.exists(f\"data/{folder_name}\"):\n",
    "    os.makedirs(f\"data/{folder_name}\")\n",
    "    os.makedirs(f\"data/{folder_name}/emails\")\n",
    "    os.makedirs(f\"data/{folder_name}/logs\")\n",
    "    os.makedirs(f\"data/{folder_name}/out\")"
   ]
  },
  {
   "cell_type": "code",
   "execution_count": 69,
   "metadata": {},
   "outputs": [],
   "source": [
    "def run_crawl(full_path, page_num):\n",
    "    subprocess.Popen(f'''cd {os.getcwd()} && \\\n",
    "                    scrapy crawl fetch_emails \\\n",
    "                    -a start_url=file://{full_path} \\\n",
    "                    {f'-a country=\"{country}\"' if country else ''} \\\n",
    "                    {f'-a country_css=\"{country_css}\"' if country_css else ''} \\\n",
    "                    -a company_block_css=\"{company_block_css}\" \\\n",
    "                    -a company_name_css=\"{company_name_css}\" \\\n",
    "                    -a website_link_css=\"{website_link_css}\" \\\n",
    "                    -o data/{folder_name}/emails/{folder_name}{country if country else \"\"}{page_num}.csv \\\n",
    "                    --logfile data/{folder_name}/logs/{folder_name}{country if country else \"\"}{page_num}.log''',\n",
    "                    shell=True)"
   ]
  },
  {
   "cell_type": "code",
   "execution_count": 70,
   "metadata": {},
   "outputs": [],
   "source": [
    "def get_companies(url_to_scrape=listing_website_start_url, page_num=page_num):\n",
    "    # Set the options for the webdriver\n",
    "    # PROXIES = get_proxies()\n",
    "    options = Options()\n",
    "    next_page = url_to_scrape\n",
    "    driver = None\n",
    "    try:\n",
    "        signal = True\n",
    "        options.add_argument('--ignore-certificate-errors')\n",
    "        options.add_argument('--ignore-ssl-errors=yes')\n",
    "        options.add_argument('--no-sandbox')\n",
    "        options.add_argument('--disable-dev-shm-usage')\n",
    "        # options.add_argument(\"--headless\")\n",
    "\n",
    "        # Set the proxy\n",
    "        # random_proxy = random.choice(PROXIES)\n",
    "        # print(\"Proxy in use: %s\" % random_proxy)\n",
    "        # options.add_argument('--proxy-server=%s' % random_proxy)\n",
    "        # options.add_argument('--proxy-server=%s' % '104.234.157.100:21278')\n",
    "\n",
    "        driver = webdriver.Remote(\n",
    "            command_executor=chromedriver_command_executor,\n",
    "            options=options,\n",
    "        )\n",
    "        with concurrent.futures.ProcessPoolExecutor(max_workers=10) as executor:\n",
    "            while next_page:\n",
    "                print(next_page)\n",
    "                driver.get(next_page)\n",
    "                print(driver.title)\n",
    "                if driver.title == \"Just a moment...\":\n",
    "                    print(\"Just a moment...\")\n",
    "                    print(\"Waiting for 60 seconds\")\n",
    "                    time.sleep(60)\n",
    "                    continue\n",
    "                file_path = f'data/{folder_name}/out/{folder_name}{page_num}.html'\n",
    "                full_path = os.path.abspath(file_path)\n",
    "                with open(file_path, 'w') as f:\n",
    "                    f.write(driver.page_source)\n",
    "                executor.submit(run_crawl, full_path, page_num)\n",
    "                if is_next_page_url_in_format:\n",
    "                    next_page = next_page_url + f\"?page={page_num+1}\"\n",
    "                else:\n",
    "                    next_page_element = driver.find_element(By.CSS_SELECTOR, next_page_css)\n",
    "                    if next_page_element:\n",
    "                        next_page = next_page_element.get_attribute('href')\n",
    "                    else:\n",
    "                        next_page = None\n",
    "                    print(next_page)\n",
    "                page_num += 1\n",
    "                time.sleep(5)\n",
    "\n",
    "    \n",
    "    except NoSuchElementException as e:\n",
    "        print(\"No Such Element Exception\")\n",
    "        print(e)\n",
    "        signal = False\n",
    "    except WebDriverException as e:\n",
    "        signal = (page_num, next_page)\n",
    "        print(e)\n",
    "    except Exception as e:\n",
    "        print(e)\n",
    "        print(e.__class__.__name__)\n",
    "        signal = False\n",
    "    finally:\n",
    "        if driver:\n",
    "            driver.close()\n",
    "        clear_sessions()\n",
    "        return signal\n"
   ]
  },
  {
   "cell_type": "code",
   "execution_count": 71,
   "metadata": {},
   "outputs": [
    {
     "name": "stdout",
     "output_type": "stream",
     "text": [
      "Docker container already running\n"
     ]
    }
   ],
   "source": [
    "check_and_run_docker()\n",
    "time.sleep(5)\n",
    "clear_sessions()"
   ]
  },
  {
   "cell_type": "code",
   "execution_count": 72,
   "metadata": {},
   "outputs": [
    {
     "name": "stdout",
     "output_type": "stream",
     "text": [
      "https://www.goodfirms.co/directory/platform/app-development?page=33\n"
     ]
    }
   ],
   "source": [
    "clear_sessions()\n",
    "signal = get_companies(listing_website_start_url, page_num)\n",
    "print(signal)\n",
    "while isinstance(signal, tuple):\n",
    "    signal = get_companies(signal[1],signal[0])\n",
    "    print(signal)\n",
    "    time.sleep(10)"
   ]
  },
  {
   "cell_type": "code",
   "execution_count": null,
   "metadata": {},
   "outputs": [],
   "source": []
  },
  {
   "cell_type": "code",
   "execution_count": null,
   "metadata": {},
   "outputs": [],
   "source": []
  }
 ],
 "metadata": {
  "kernelspec": {
   "display_name": "Python 3",
   "language": "python",
   "name": "python3"
  },
  "language_info": {
   "codemirror_mode": {
    "name": "ipython",
    "version": 3
   },
   "file_extension": ".py",
   "mimetype": "text/x-python",
   "name": "python",
   "nbconvert_exporter": "python",
   "pygments_lexer": "ipython3",
   "version": "3.11.0rc1"
  }
 },
 "nbformat": 4,
 "nbformat_minor": 2
}
